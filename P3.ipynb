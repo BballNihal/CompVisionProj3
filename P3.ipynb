{
 "cells": [
  {
   "cell_type": "markdown",
   "metadata": {},
   "source": [
    "PROBLEM 1: \n",
    "\n",
    "An image feature is simply interesting or meaningful areas in an image such as the corners of a house or the peaks of a mountain. They are the most useful areas in an image to give enough information to describe the image. An image feature vector is just the numerical representation of these image features placed in a vector.  Typically many of these interest points would have to be found using something like sift rather than manually looking through an image since some points are not as intuitive as say the corners of a house."
   ]
  },
  {
   "cell_type": "code",
   "execution_count": null,
   "metadata": {},
   "outputs": [
    {
     "name": "stdout",
     "output_type": "stream",
     "text": [
      "['image_set/dog_0.jpg', 'image_set/dog_1.jpg', 'image_set/dog_2.jpg', 'image_set/dog_3.jpg', 'image_set/dog_4.jpg', 'image_set/dog_5.jpg', 'image_set/dog_6.jpg', 'image_set/dog_7.jpg', 'image_set/dog_8.jpg', 'image_set/dog_9.jpg', 'image_set/cat_0.jpg', 'image_set/cat_1.jpg', 'image_set/cat_2.jpg', 'image_set/cat_3.jpg', 'image_set/cat_4.jpg', 'image_set/cat_5.jpg', 'image_set/cat_6.jpg', 'image_set/cat_7.jpg', 'image_set/cat_8.jpg', 'image_set/cat_9.jpg', 'image_set/mango_0.jpg', 'image_set/mango_1.jpg', 'image_set/mango_2.jpg', 'image_set/mango_3.jpg', 'image_set/mango_4.jpg', 'image_set/mango_5.jpg', 'image_set/mango_6.jpg', 'image_set/mango_7.jpg', 'image_set/mango_8.jpg', 'image_set/mango_9.jpg', 'image_set/banana_0.jpg', 'image_set/banana_1.jpg', 'image_set/banana_2.jpg', 'image_set/banana_3.jpg', 'image_set/banana_4.jpg', 'image_set/banana_5.jpg', 'image_set/banana_6.jpg', 'image_set/banana_7.jpg', 'image_set/banana_8.jpg', 'image_set/banana_9.jpg', 'image_set/goldfish_0.jpg', 'image_set/goldfish_1.jpg', 'image_set/goldfish_2.jpg', 'image_set/goldfish_3.jpg', 'image_set/goldfish_4.jpg', 'image_set/goldfish_5.jpg', 'image_set/goldfish_6.jpg', 'image_set/goldfish_7.jpg', 'image_set/goldfish_8.jpg', 'image_set/goldfish_9.jpg', 'image_set/orca_0.jpg', 'image_set/orca_1.jpg', 'image_set/orca_2.jpg', 'image_set/orca_3.jpg', 'image_set/orca_4.jpg', 'image_set/orca_5.jpg', 'image_set/orca_6.jpg', 'image_set/orca_7.jpg', 'image_set/orca_8.jpg', 'image_set/orca_9.jpg']\n",
      "[1, 1, 1, 1, 1, 1, 1, 1, 1, 1, 2, 2, 2, 2, 2, 2, 2, 2, 2, 2, 3, 3, 3, 3, 3, 3, 3, 3, 3, 3, 4, 4, 4, 4, 4, 4, 4, 4, 4, 4, 5, 5, 5, 5, 5, 5, 5, 5, 5, 5, 6, 6, 6, 6, 6, 6, 6, 6, 6, 6]\n"
     ]
    }
   ],
   "source": [
    "#PROBLEM 2\n",
    "\n",
    "import os\n",
    "import numpy as np\n",
    "import torch\n",
    "import torchvision\n",
    "from torchvision import transforms\n",
    "import cv2\n",
    "from sklearn.model_selection import train_test_split\n",
    "from sklearn.svm import SVC\n",
    "from sklearn.metrics import accuracy_score, classification_report\n",
    "from sklearn.preprocessing import StandardScaler\n",
    "from PIL import Image\n",
    "\n",
    "class ImageDatasetLoader:\n",
    "    def __init__(self, img_dir):\n",
    "        self.img_dir = img_dir\n",
    "        self.img_labels = {\n",
    "            'dog': 1, #A\n",
    "            'cat': 2, #B\n",
    "            'mango': 3, #C\n",
    "            'banana': 4, #D\n",
    "            'goldfish': 5, #E\n",
    "            'orca': 6 #F\n",
    "        }\n",
    "    \n",
    "    def load_dataset(self):\n",
    "        \n",
    "        #Load images for each class from folder (generating 10 images per class)\n",
    "        image_paths = []\n",
    "        labels = []\n",
    "        \n",
    "        for category, label in self.img_labels.items():\n",
    "            for i in range(10):\n",
    "                filename = f\"{category}_{i}.jpg\"\n",
    "                full_path = os.path.join(self.img_dir, filename)\n",
    "                \n",
    "                if os.path.exists(full_path):\n",
    "                    image_paths.append(full_path)\n",
    "                    labels.append(label)\n",
    "                else:\n",
    "                    print(f\"{filename} not found\")\n",
    "        \n",
    "        return image_paths, labels\n",
    "    \n",
    "#Initialize dataset loader\n",
    "img_dir = \"image_set/\"\n",
    "dataset_loader = ImageDatasetLoader(img_dir)\n",
    "    \n",
    "#Load image paths and labels\n",
    "image_paths, labels = dataset_loader.load_dataset()\n",
    "\n",
    "print(image_paths)\n",
    "print(labels)\n"
   ]
  },
  {
   "cell_type": "code",
   "execution_count": null,
   "metadata": {},
   "outputs": [],
   "source": [
    "#PROBLEM 3"
   ]
  },
  {
   "cell_type": "code",
   "execution_count": null,
   "metadata": {},
   "outputs": [],
   "source": [
    "#PROBLEM 4"
   ]
  }
 ],
 "metadata": {
  "kernelspec": {
   "display_name": "CompVisionProjectEnv",
   "language": "python",
   "name": "python3"
  },
  "language_info": {
   "codemirror_mode": {
    "name": "ipython",
    "version": 3
   },
   "file_extension": ".py",
   "mimetype": "text/x-python",
   "name": "python",
   "nbconvert_exporter": "python",
   "pygments_lexer": "ipython3",
   "version": "3.11.5"
  }
 },
 "nbformat": 4,
 "nbformat_minor": 2
}
